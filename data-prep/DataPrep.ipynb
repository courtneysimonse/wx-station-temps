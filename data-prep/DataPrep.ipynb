{
 "cells": [
  {
   "cell_type": "code",
   "execution_count": 1,
   "id": "44fc8af3",
   "metadata": {},
   "outputs": [],
   "source": [
    "import pandas as pd"
   ]
  },
  {
   "cell_type": "code",
   "execution_count": 2,
   "id": "038718bd",
   "metadata": {},
   "outputs": [
    {
     "name": "stdout",
     "output_type": "stream",
     "text": [
      "             GHCN_ID  month  day  hour  DLY-TAVG-NORMAL  \\\n",
      "0        AQW00061705      1    1    99             82.9   \n",
      "1        AQW00061705      1    2    99             82.9   \n",
      "2        AQW00061705      1    3    99             82.9   \n",
      "3        AQW00061705      1    4    99             82.9   \n",
      "4        AQW00061705      1    5    99             82.9   \n",
      "...              ...    ...  ...   ...              ...   \n",
      "2672893  CAW00064757     12   27    99             22.3   \n",
      "2672894  CAW00064757     12   28    99             22.0   \n",
      "2672895  CAW00064757     12   29    99             21.7   \n",
      "2672896  CAW00064757     12   30    99             21.5   \n",
      "2672897  CAW00064757     12   31    99             21.2   \n",
      "\n",
      "        meas_flag_DLY-TAVG-NORMAL comp_flag_DLY-TAVG-NORMAL  \\\n",
      "0                                                         S   \n",
      "1                                                         S   \n",
      "2                                                         S   \n",
      "3                                                         S   \n",
      "4                                                         S   \n",
      "...                           ...                       ...   \n",
      "2672893                                                   R   \n",
      "2672894                                                   R   \n",
      "2672895                                                   R   \n",
      "2672896                                                   R   \n",
      "2672897                                                   R   \n",
      "\n",
      "         years_DLY-TAVG-NORMAL  DLY-TMAX-NORMAL meas_flag_DLY-TMAX-NORMAL  \\\n",
      "0                           29             87.7                             \n",
      "1                           29             87.7                             \n",
      "2                           29             87.8                             \n",
      "3                           29             87.8                             \n",
      "4                           29             87.8                             \n",
      "...                        ...              ...                       ...   \n",
      "2672893                     17             28.9                             \n",
      "2672894                     17             28.7                             \n",
      "2672895                     17             28.5                             \n",
      "2672896                     17             28.3                             \n",
      "2672897                     17             28.1                             \n",
      "\n",
      "        comp_flag_DLY-TMAX-NORMAL  years_DLY-TMAX-NORMAL  DLY-TMIN-NORMAL  \\\n",
      "0                               S                     29             78.1   \n",
      "1                               S                     29             78.1   \n",
      "2                               S                     29             78.1   \n",
      "3                               S                     29             78.1   \n",
      "4                               S                     29             78.1   \n",
      "...                           ...                    ...              ...   \n",
      "2672893                         R                     17             15.6   \n",
      "2672894                         R                     17             15.3   \n",
      "2672895                         R                     17             15.0   \n",
      "2672896                         R                     17             14.7   \n",
      "2672897                         R                     17             14.4   \n",
      "\n",
      "        meas_flag_DLY-TMIN-NORMAL comp_flag_DLY-TMIN-NORMAL  \\\n",
      "0                                                         S   \n",
      "1                                                         S   \n",
      "2                                                         S   \n",
      "3                                                         S   \n",
      "4                                                         S   \n",
      "...                           ...                       ...   \n",
      "2672893                                                   R   \n",
      "2672894                                                   R   \n",
      "2672895                                                   R   \n",
      "2672896                                                   R   \n",
      "2672897                                                   R   \n",
      "\n",
      "         years_DLY-TMIN-NORMAL  DLY-DUTR-NORMAL meas_flag_DLY-DUTR-NORMAL  \\\n",
      "0                           29              9.6                             \n",
      "1                           29              9.6                             \n",
      "2                           29              9.6                             \n",
      "3                           29              9.6                             \n",
      "4                           29              9.6                             \n",
      "...                        ...              ...                       ...   \n",
      "2672893                     17             13.3                             \n",
      "2672894                     17             13.4                             \n",
      "2672895                     17             13.5                             \n",
      "2672896                     17             13.6                             \n",
      "2672897                     17             13.7                             \n",
      "\n",
      "        comp_flag_DLY-DUTR-NORMAL  years_DLY-DUTR-NORMAL  \n",
      "0                               S                     29  \n",
      "1                               S                     29  \n",
      "2                               S                     29  \n",
      "3                               S                     29  \n",
      "4                               S                     29  \n",
      "...                           ...                    ...  \n",
      "2672893                         R                     17  \n",
      "2672894                         R                     17  \n",
      "2672895                         R                     17  \n",
      "2672896                         R                     17  \n",
      "2672897                         R                     17  \n",
      "\n",
      "[2672898 rows x 20 columns]\n"
     ]
    }
   ],
   "source": [
    "df = pd.read_csv('dly-temp-normal.csv')\n",
    "print(df)"
   ]
  },
  {
   "cell_type": "code",
   "execution_count": 3,
   "id": "164ba20c",
   "metadata": {},
   "outputs": [
    {
     "data": {
      "text/plain": [
       "Index(['GHCN_ID', 'month', 'day', 'hour', 'DLY-TAVG-NORMAL',\n",
       "       'meas_flag_DLY-TAVG-NORMAL', 'comp_flag_DLY-TAVG-NORMAL',\n",
       "       'years_DLY-TAVG-NORMAL', 'DLY-TMAX-NORMAL', 'meas_flag_DLY-TMAX-NORMAL',\n",
       "       'comp_flag_DLY-TMAX-NORMAL', 'years_DLY-TMAX-NORMAL', 'DLY-TMIN-NORMAL',\n",
       "       'meas_flag_DLY-TMIN-NORMAL', 'comp_flag_DLY-TMIN-NORMAL',\n",
       "       'years_DLY-TMIN-NORMAL', 'DLY-DUTR-NORMAL', 'meas_flag_DLY-DUTR-NORMAL',\n",
       "       'comp_flag_DLY-DUTR-NORMAL', 'years_DLY-DUTR-NORMAL'],\n",
       "      dtype='object')"
      ]
     },
     "execution_count": 3,
     "metadata": {},
     "output_type": "execute_result"
    }
   ],
   "source": [
    "df.columns"
   ]
  },
  {
   "cell_type": "code",
   "execution_count": 4,
   "id": "9ac5b805",
   "metadata": {},
   "outputs": [],
   "source": [
    "df = df.drop(columns=['hour', 'DLY-DUTR-NORMAL', 'meas_flag_DLY-DUTR-NORMAL',\n",
    "       'comp_flag_DLY-DUTR-NORMAL', 'years_DLY-DUTR-NORMAL'])"
   ]
  },
  {
   "cell_type": "code",
   "execution_count": 5,
   "id": "ffe1288a",
   "metadata": {},
   "outputs": [
    {
     "name": "stdout",
     "output_type": "stream",
     "text": [
      "             GHCN_ID  month  day  DLY-TAVG-NORMAL meas_flag_DLY-TAVG-NORMAL  \\\n",
      "0        AQW00061705      1    1             82.9                             \n",
      "1        AQW00061705      1    2             82.9                             \n",
      "2        AQW00061705      1    3             82.9                             \n",
      "3        AQW00061705      1    4             82.9                             \n",
      "4        AQW00061705      1    5             82.9                             \n",
      "...              ...    ...  ...              ...                       ...   \n",
      "2672893  CAW00064757     12   27             22.3                             \n",
      "2672894  CAW00064757     12   28             22.0                             \n",
      "2672895  CAW00064757     12   29             21.7                             \n",
      "2672896  CAW00064757     12   30             21.5                             \n",
      "2672897  CAW00064757     12   31             21.2                             \n",
      "\n",
      "        comp_flag_DLY-TAVG-NORMAL  years_DLY-TAVG-NORMAL  DLY-TMAX-NORMAL  \\\n",
      "0                               S                     29             87.7   \n",
      "1                               S                     29             87.7   \n",
      "2                               S                     29             87.8   \n",
      "3                               S                     29             87.8   \n",
      "4                               S                     29             87.8   \n",
      "...                           ...                    ...              ...   \n",
      "2672893                         R                     17             28.9   \n",
      "2672894                         R                     17             28.7   \n",
      "2672895                         R                     17             28.5   \n",
      "2672896                         R                     17             28.3   \n",
      "2672897                         R                     17             28.1   \n",
      "\n",
      "        meas_flag_DLY-TMAX-NORMAL comp_flag_DLY-TMAX-NORMAL  \\\n",
      "0                                                         S   \n",
      "1                                                         S   \n",
      "2                                                         S   \n",
      "3                                                         S   \n",
      "4                                                         S   \n",
      "...                           ...                       ...   \n",
      "2672893                                                   R   \n",
      "2672894                                                   R   \n",
      "2672895                                                   R   \n",
      "2672896                                                   R   \n",
      "2672897                                                   R   \n",
      "\n",
      "         years_DLY-TMAX-NORMAL  DLY-TMIN-NORMAL meas_flag_DLY-TMIN-NORMAL  \\\n",
      "0                           29             78.1                             \n",
      "1                           29             78.1                             \n",
      "2                           29             78.1                             \n",
      "3                           29             78.1                             \n",
      "4                           29             78.1                             \n",
      "...                        ...              ...                       ...   \n",
      "2672893                     17             15.6                             \n",
      "2672894                     17             15.3                             \n",
      "2672895                     17             15.0                             \n",
      "2672896                     17             14.7                             \n",
      "2672897                     17             14.4                             \n",
      "\n",
      "        comp_flag_DLY-TMIN-NORMAL  years_DLY-TMIN-NORMAL  \n",
      "0                               S                     29  \n",
      "1                               S                     29  \n",
      "2                               S                     29  \n",
      "3                               S                     29  \n",
      "4                               S                     29  \n",
      "...                           ...                    ...  \n",
      "2672893                         R                     17  \n",
      "2672894                         R                     17  \n",
      "2672895                         R                     17  \n",
      "2672896                         R                     17  \n",
      "2672897                         R                     17  \n",
      "\n",
      "[2672898 rows x 15 columns]\n"
     ]
    }
   ],
   "source": [
    "print(df)"
   ]
  },
  {
   "cell_type": "code",
   "execution_count": 6,
   "id": "e5cc712d",
   "metadata": {},
   "outputs": [],
   "source": [
    "df.to_csv('dly-tminmaxavg-normal.csv')"
   ]
  },
  {
   "cell_type": "code",
   "execution_count": 7,
   "id": "480a7b0f",
   "metadata": {
    "scrolled": true
   },
   "outputs": [
    {
     "name": "stdout",
     "output_type": "stream",
     "text": [
      "         Unnamed: 0      GHCN_ID  month  day  DLY-TAVG-NORMAL  \\\n",
      "0                 0  AQW00061705      1    1             82.9   \n",
      "1                 1  AQW00061705      1    2             82.9   \n",
      "2                 2  AQW00061705      1    3             82.9   \n",
      "3                 3  AQW00061705      1    4             82.9   \n",
      "4                 4  AQW00061705      1    5             82.9   \n",
      "...             ...          ...    ...  ...              ...   \n",
      "2672893     2672893  CAW00064757     12   27             22.3   \n",
      "2672894     2672894  CAW00064757     12   28             22.0   \n",
      "2672895     2672895  CAW00064757     12   29             21.7   \n",
      "2672896     2672896  CAW00064757     12   30             21.5   \n",
      "2672897     2672897  CAW00064757     12   31             21.2   \n",
      "\n",
      "        meas_flag_DLY-TAVG-NORMAL comp_flag_DLY-TAVG-NORMAL  \\\n",
      "0                                                         S   \n",
      "1                                                         S   \n",
      "2                                                         S   \n",
      "3                                                         S   \n",
      "4                                                         S   \n",
      "...                           ...                       ...   \n",
      "2672893                                                   R   \n",
      "2672894                                                   R   \n",
      "2672895                                                   R   \n",
      "2672896                                                   R   \n",
      "2672897                                                   R   \n",
      "\n",
      "         years_DLY-TAVG-NORMAL  DLY-TMAX-NORMAL meas_flag_DLY-TMAX-NORMAL  \\\n",
      "0                           29             87.7                             \n",
      "1                           29             87.7                             \n",
      "2                           29             87.8                             \n",
      "3                           29             87.8                             \n",
      "4                           29             87.8                             \n",
      "...                        ...              ...                       ...   \n",
      "2672893                     17             28.9                             \n",
      "2672894                     17             28.7                             \n",
      "2672895                     17             28.5                             \n",
      "2672896                     17             28.3                             \n",
      "2672897                     17             28.1                             \n",
      "\n",
      "        comp_flag_DLY-TMAX-NORMAL  years_DLY-TMAX-NORMAL  DLY-TMIN-NORMAL  \\\n",
      "0                               S                     29             78.1   \n",
      "1                               S                     29             78.1   \n",
      "2                               S                     29             78.1   \n",
      "3                               S                     29             78.1   \n",
      "4                               S                     29             78.1   \n",
      "...                           ...                    ...              ...   \n",
      "2672893                         R                     17             15.6   \n",
      "2672894                         R                     17             15.3   \n",
      "2672895                         R                     17             15.0   \n",
      "2672896                         R                     17             14.7   \n",
      "2672897                         R                     17             14.4   \n",
      "\n",
      "        meas_flag_DLY-TMIN-NORMAL comp_flag_DLY-TMIN-NORMAL  \\\n",
      "0                                                         S   \n",
      "1                                                         S   \n",
      "2                                                         S   \n",
      "3                                                         S   \n",
      "4                                                         S   \n",
      "...                           ...                       ...   \n",
      "2672893                                                   R   \n",
      "2672894                                                   R   \n",
      "2672895                                                   R   \n",
      "2672896                                                   R   \n",
      "2672897                                                   R   \n",
      "\n",
      "         years_DLY-TMIN-NORMAL  \n",
      "0                           29  \n",
      "1                           29  \n",
      "2                           29  \n",
      "3                           29  \n",
      "4                           29  \n",
      "...                        ...  \n",
      "2672893                     17  \n",
      "2672894                     17  \n",
      "2672895                     17  \n",
      "2672896                     17  \n",
      "2672897                     17  \n",
      "\n",
      "[2672898 rows x 16 columns]\n"
     ]
    }
   ],
   "source": [
    "df = pd.read_csv('dly-tminmaxavg-normal.csv')\n",
    "print(df)"
   ]
  },
  {
   "cell_type": "code",
   "execution_count": 8,
   "id": "023d947d",
   "metadata": {},
   "outputs": [
    {
     "data": {
      "text/plain": [
       "0           1\n",
       "1           1\n",
       "2           1\n",
       "3           1\n",
       "4           1\n",
       "           ..\n",
       "2672893    12\n",
       "2672894    12\n",
       "2672895    12\n",
       "2672896    12\n",
       "2672897    12\n",
       "Name: month, Length: 2672898, dtype: int64"
      ]
     },
     "execution_count": 8,
     "metadata": {},
     "output_type": "execute_result"
    }
   ],
   "source": [
    "df['month']"
   ]
  },
  {
   "cell_type": "code",
   "execution_count": 9,
   "id": "bbb6873b",
   "metadata": {},
   "outputs": [],
   "source": [
    "df['data_date'] = df.month.astype(str) + '-' + df.day.astype(str)"
   ]
  },
  {
   "cell_type": "code",
   "execution_count": 10,
   "id": "4e7c5d02",
   "metadata": {},
   "outputs": [
    {
     "data": {
      "text/plain": [
       "0            1-1\n",
       "1            1-2\n",
       "2            1-3\n",
       "3            1-4\n",
       "4            1-5\n",
       "           ...  \n",
       "2672893    12-27\n",
       "2672894    12-28\n",
       "2672895    12-29\n",
       "2672896    12-30\n",
       "2672897    12-31\n",
       "Name: data_date, Length: 2672898, dtype: object"
      ]
     },
     "execution_count": 10,
     "metadata": {},
     "output_type": "execute_result"
    }
   ],
   "source": [
    "df.data_date"
   ]
  },
  {
   "cell_type": "code",
   "execution_count": 11,
   "id": "caddea0d",
   "metadata": {},
   "outputs": [],
   "source": [
    "df_MAX = df.pivot(index='GHCN_ID',columns='data_date',values='DLY-TMAX-NORMAL')"
   ]
  },
  {
   "cell_type": "code",
   "execution_count": 12,
   "id": "c4f7f4bd",
   "metadata": {},
   "outputs": [],
   "source": [
    "df_MAX.to_csv('dly_tmax_bydate.csv')"
   ]
  },
  {
   "cell_type": "code",
   "execution_count": 13,
   "id": "b43a4d85",
   "metadata": {},
   "outputs": [],
   "source": [
    "df_MIN = df.pivot(index='GHCN_ID',columns='data_date',values='DLY-TMIN-NORMAL')"
   ]
  },
  {
   "cell_type": "code",
   "execution_count": 14,
   "id": "55448d53",
   "metadata": {},
   "outputs": [],
   "source": [
    "df_MIN.to_csv('dly_tmin_bydate.csv')"
   ]
  },
  {
   "cell_type": "code",
   "execution_count": 15,
   "id": "35fee001",
   "metadata": {},
   "outputs": [],
   "source": [
    "df_AVG = df.pivot(index='GHCN_ID',columns='data_date',values='DLY-TAVG-NORMAL')"
   ]
  },
  {
   "cell_type": "code",
   "execution_count": 16,
   "id": "2a08e269",
   "metadata": {},
   "outputs": [],
   "source": [
    "df_AVG.to_csv('dly_tavg_bydate.csv')"
   ]
  }
 ],
 "metadata": {
  "kernelspec": {
   "display_name": "Python 3 (ipykernel)",
   "language": "python",
   "name": "python3"
  },
  "language_info": {
   "codemirror_mode": {
    "name": "ipython",
    "version": 3
   },
   "file_extension": ".py",
   "mimetype": "text/x-python",
   "name": "python",
   "nbconvert_exporter": "python",
   "pygments_lexer": "ipython3",
   "version": "3.10.0"
  }
 },
 "nbformat": 4,
 "nbformat_minor": 5
}
